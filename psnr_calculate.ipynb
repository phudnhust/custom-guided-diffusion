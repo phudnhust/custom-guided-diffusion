{
 "cells": [
  {
   "cell_type": "code",
   "execution_count": 31,
   "id": "be85070b",
   "metadata": {},
   "outputs": [
    {
     "name": "stdout",
     "output_type": "stream",
     "text": [
      "PSNR value is 28.72003001340447 dB\n"
     ]
    }
   ],
   "source": [
    "from math import log10, sqrt\n",
    "from PIL import Image\n",
    "import numpy as np\n",
    "\n",
    "def load_image_as_np(img_path):\n",
    "    pil_image = Image.open(img_path).convert('RGB')\n",
    "    open_cv_image = np.array(pil_image)\n",
    "    # Convert RGB to BGR\n",
    "    open_cv_image = open_cv_image[:, :, ::-1].copy()\n",
    "    return open_cv_image\n",
    "\n",
    "def PSNR(original, compressed):\n",
    "    mse = np.mean((original - compressed) ** 2)\n",
    "    if(mse == 0):  # MSE is zero means no noise is present in the signal .\n",
    "                  # Therefore PSNR have no importance.\n",
    "        return 100\n",
    "    max_pixel = 255.0\n",
    "    psnr = 20 * log10(max_pixel / sqrt(mse))\n",
    "    return psnr\n",
    "\n",
    "\n",
    "# original_path      = '/mnt/HDD2/phudh/custom-guided-diffusion/hq_img/CelebDataProcessed/Jennifer Lopez/8.jpg'\n",
    "original_path      = '/mnt/HDD2/phudh/custom-guided-diffusion/hq_img/imagenet-256/academic_gown/004.jpg'\n",
    "reconstructed_path = '/mnt/HDD2/phudh/custom-guided-diffusion/png_output/aca04_top10_samples_1x256x256x3_date_20250616_time_1659.png'\n",
    "\n",
    "value = PSNR(load_image_as_np(original_path), load_image_as_np(reconstructed_path))\n",
    "print(f\"PSNR value is {value} dB\")"
   ]
  }
 ],
 "metadata": {
  "kernelspec": {
   "display_name": "dif",
   "language": "python",
   "name": "python3"
  },
  "language_info": {
   "codemirror_mode": {
    "name": "ipython",
    "version": 3
   },
   "file_extension": ".py",
   "mimetype": "text/x-python",
   "name": "python",
   "nbconvert_exporter": "python",
   "pygments_lexer": "ipython3",
   "version": "3.9.21"
  }
 },
 "nbformat": 4,
 "nbformat_minor": 5
}
